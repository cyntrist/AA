{
 "cells": [
  {
   "cell_type": "markdown",
   "metadata": {},
   "source": [
    "# Introducción rápida a Python\n",
    "## Aprnediaje Automático y Minería de Datos\n",
    "### Ismael Sagredo Olivenza, Pedro Antonio González Calero"
   ]
  },
  {
   "cell_type": "markdown",
   "metadata": {},
   "source": [
    "Algunos de los ejemplos mostrados son del curso de Introducción a la programación en Phyton de los cursos CFI  https://cursosinformatica.ucm.es/\n",
    "También se ha utilizado material de introducción a Phyton de Jose Luis Reina de la universidad de Sevilla y de la asignatura de Sistemas Inteligentes del grdo en Ingeniería de Computadores"
   ]
  },
  {
   "cell_type": "markdown",
   "metadata": {},
   "source": [
    "## Hola Mundo"
   ]
  },
  {
   "cell_type": "code",
   "execution_count": 1,
   "metadata": {},
   "outputs": [
    {
     "name": "stdout",
     "output_type": "stream",
     "text": [
      "Hello World\n"
     ]
    }
   ],
   "source": [
    "print(\"Hello World\")"
   ]
  },
  {
   "cell_type": "markdown",
   "metadata": {},
   "source": [
    "## Asignación"
   ]
  },
  {
   "cell_type": "code",
   "execution_count": 2,
   "metadata": {},
   "outputs": [
    {
     "name": "stdout",
     "output_type": "stream",
     "text": [
      "0\n",
      "I don't want any spam!\n",
      "Spam Spam Spam Spam \n"
     ]
    }
   ],
   "source": [
    "spam_amount = 0\n",
    "print(spam_amount)\n",
    "spam_amount = spam_amount + 4;\n",
    "if spam_amount > 0:\n",
    "    print(\"I don't want any spam!\");\n",
    "viking_song = \"Spam \" * spam_amount;\n",
    "print (viking_song)"
   ]
  },
  {
   "cell_type": "markdown",
   "metadata": {},
   "source": [
    "En la declaración de las variables no se especifica el tipo\n",
    "\n",
    "Las variables tienen tipo, pero este puede cambiar en tiempo de ejecución\n",
    "\n",
    "(The type is not specified in the variable declaration, but be careful, variables have a type, but the type can change at runtime.)"
   ]
  },
  {
   "cell_type": "markdown",
   "metadata": {},
   "source": [
    "## Expresiones y variables"
   ]
  },
  {
   "cell_type": "markdown",
   "metadata": {},
   "source": [
    "Una variable es una **referencia** a una posición de memoria, en la que está almacenada el dato.\n",
    "\n",
    "(A variable is a **reference** to a memory location where data is stored)"
   ]
  },
  {
   "cell_type": "code",
   "execution_count": 3,
   "metadata": {},
   "outputs": [
    {
     "data": {
      "text/plain": [
       "5.0"
      ]
     },
     "execution_count": 3,
     "metadata": {},
     "output_type": "execute_result"
    }
   ],
   "source": [
    "(2+3)**4\n",
    "(50-5*6)/4\n",
    "# Only the result of the last instruction is displayed."
   ]
  },
  {
   "cell_type": "code",
   "execution_count": 4,
   "metadata": {},
   "outputs": [],
   "source": [
    "ancho = 20\n",
    "alto = 5*9\n",
    "area = ancho * alto"
   ]
  },
  {
   "cell_type": "code",
   "execution_count": 5,
   "metadata": {},
   "outputs": [
    {
     "name": "stdout",
     "output_type": "stream",
     "text": [
      "(20, 45, 900)\n"
     ]
    }
   ],
   "source": [
    "list = ancho, alto, area\n",
    "print(list)\n",
    "# You can create a list using commas"
   ]
  },
  {
   "cell_type": "code",
   "execution_count": 6,
   "metadata": {},
   "outputs": [
    {
     "name": "stdout",
     "output_type": "stream",
     "text": [
      "1800\n"
     ]
    }
   ],
   "source": [
    "area*=2\n",
    "print(area)\n",
    "# *= multplies the variable by two and stores the result in the same variable"
   ]
  },
  {
   "cell_type": "code",
   "execution_count": 7,
   "metadata": {},
   "outputs": [
    {
     "name": "stdout",
     "output_type": "stream",
     "text": [
      "Addition: 3\n",
      "sustration: -1\n",
      "multiplication: 2\n",
      "division: 0.5\n",
      "integer division: 0\n",
      "power: 1024\n"
     ]
    }
   ],
   "source": [
    "x = 1\n",
    "y = 2\n",
    "print('Addition:', x + y)\n",
    "print('sustration:', x - y)\n",
    "print('multiplication:', x * y)\n",
    "print('division:', x / y)\n",
    "print('integer division:', x // y)\n",
    "print('power:', y ** 10)"
   ]
  },
  {
   "cell_type": "code",
   "execution_count": 8,
   "metadata": {},
   "outputs": [
    {
     "data": {
      "text/plain": [
       "7"
      ]
     },
     "execution_count": 8,
     "metadata": {},
     "output_type": "execute_result"
    }
   ],
   "source": [
    "x = 5\n",
    "x += 2\n",
    "x  # the last cell value is printed by default"
   ]
  },
  {
   "cell_type": "code",
   "execution_count": 9,
   "metadata": {},
   "outputs": [
    {
     "name": "stdout",
     "output_type": "stream",
     "text": [
      "<class 'int'>\n"
     ]
    }
   ],
   "source": [
    "#type allows us to know the type of a variable\n",
    "variableNumerica = 2\n",
    "print(type(variableNumerica))"
   ]
  },
  {
   "cell_type": "markdown",
   "metadata": {},
   "source": [
    "## Cadenas de caracteres (Strings)"
   ]
  },
  {
   "cell_type": "markdown",
   "metadata": {},
   "source": [
    "Son secuencias de caracteres entre comillas simples o dobles. \n",
    "\n",
    "(These are sequences of characters enclosed in single or double inverted commas.)"
   ]
  },
  {
   "cell_type": "code",
   "execution_count": 10,
   "metadata": {},
   "outputs": [],
   "source": [
    "c1= \"this is a string \""
   ]
  },
  {
   "cell_type": "code",
   "execution_count": 11,
   "metadata": {},
   "outputs": [],
   "source": [
    "c2=' and this is also a string'"
   ]
  },
  {
   "cell_type": "code",
   "execution_count": 12,
   "metadata": {},
   "outputs": [],
   "source": [
    "frase = c1 + c2"
   ]
  },
  {
   "cell_type": "code",
   "execution_count": 13,
   "metadata": {},
   "outputs": [
    {
     "data": {
      "text/plain": [
       "'this is a string  and this is also a string'"
      ]
     },
     "execution_count": 13,
     "metadata": {},
     "output_type": "execute_result"
    }
   ],
   "source": [
    "frase"
   ]
  },
  {
   "cell_type": "code",
   "execution_count": 14,
   "metadata": {},
   "outputs": [
    {
     "name": "stdout",
     "output_type": "stream",
     "text": [
      "SE QUEDA CON EL ULTIMO\n",
      "juan have 21 years old\n",
      "hello world!\n"
     ]
    }
   ],
   "source": [
    "# string operations\n",
    "uppercase = 'antonio'.upper()\n",
    "uppercase = 'se queda con el ultimo'.upper()\n",
    "print(uppercase)\n",
    "string_data = '{} have {} years old'.format('juan', 21)\n",
    "print(string_data)\n",
    "concat = 'hello' + ' ' + 'world!'\n",
    "print(concat)"
   ]
  },
  {
   "cell_type": "code",
   "execution_count": 15,
   "metadata": {},
   "outputs": [],
   "source": [
    "concat+=\" y fin..\""
   ]
  },
  {
   "cell_type": "code",
   "execution_count": 16,
   "metadata": {},
   "outputs": [
    {
     "data": {
      "text/plain": [
       "'hello world! y fin..'"
      ]
     },
     "execution_count": 16,
     "metadata": {},
     "output_type": "execute_result"
    }
   ],
   "source": [
    "concat"
   ]
  },
  {
   "cell_type": "code",
   "execution_count": 17,
   "metadata": {},
   "outputs": [
    {
     "data": {
      "text/plain": [
       "'hello world! y fin..hello world! y fin..'"
      ]
     },
     "execution_count": 17,
     "metadata": {},
     "output_type": "execute_result"
    }
   ],
   "source": [
    "frase = concat\n",
    "frase*2"
   ]
  },
  {
   "cell_type": "code",
   "execution_count": 18,
   "metadata": {},
   "outputs": [
    {
     "data": {
      "text/plain": [
       "'hello world! y fin..'"
      ]
     },
     "execution_count": 18,
     "metadata": {},
     "output_type": "execute_result"
    }
   ],
   "source": [
    "frase"
   ]
  },
  {
   "cell_type": "markdown",
   "metadata": {},
   "source": [
    "Se puede acceder a caracteres concretos de un string, mediante su índice de posición. En Python los índices _empiezan en 0_ y pueden ser negativos (en ese caso, considera el string como circular y cuenta hacia atrás desde el último)\n",
    "\n",
    "(You cant access specific characters in a string, using the index position. In that case, Python considere the string as a circular and start from finish)"
   ]
  },
  {
   "cell_type": "code",
   "execution_count": 19,
   "metadata": {},
   "outputs": [
    {
     "data": {
      "text/plain": [
       "'o'"
      ]
     },
     "execution_count": 19,
     "metadata": {},
     "output_type": "execute_result"
    }
   ],
   "source": [
    "frase[7]"
   ]
  },
  {
   "cell_type": "code",
   "execution_count": 20,
   "metadata": {},
   "outputs": [
    {
     "data": {
      "text/plain": [
       "'.'"
      ]
     },
     "execution_count": 20,
     "metadata": {},
     "output_type": "execute_result"
    }
   ],
   "source": [
    "frase[-1]"
   ]
  },
  {
   "cell_type": "code",
   "execution_count": 21,
   "metadata": {},
   "outputs": [
    {
     "data": {
      "text/plain": [
       "'li'"
      ]
     },
     "execution_count": 21,
     "metadata": {},
     "output_type": "execute_result"
    }
   ],
   "source": [
    "frase[3]+frase[-4]"
   ]
  },
  {
   "cell_type": "code",
   "execution_count": 22,
   "metadata": {},
   "outputs": [
    {
     "data": {
      "text/plain": [
       "'llo '"
      ]
     },
     "execution_count": 22,
     "metadata": {},
     "output_type": "execute_result"
    }
   ],
   "source": [
    "#given a sequence l (such as a string), the notation l[i:f] indicates the substring of l that starts at position i and ends at the position before f. \n",
    "frase[2:6]"
   ]
  },
  {
   "cell_type": "code",
   "execution_count": 23,
   "metadata": {},
   "outputs": [
    {
     "data": {
      "text/plain": [
       "'low'"
      ]
     },
     "execution_count": 23,
     "metadata": {},
     "output_type": "execute_result"
    }
   ],
   "source": [
    "#The third parameter s `l[i:f:s]`,  Indicate the jump. The jump can be negative\n",
    "frase[2:7:2]"
   ]
  },
  {
   "cell_type": "code",
   "execution_count": 24,
   "metadata": {},
   "outputs": [
    {
     "data": {
      "text/plain": [
       "'..nif y !dlrow olleh'"
      ]
     },
     "execution_count": 24,
     "metadata": {},
     "output_type": "execute_result"
    }
   ],
   "source": [
    "# By default l(0,end,1)\n",
    "# Whether the jump is negative, start become end and viceverse\n",
    "frase[::-1]\n"
   ]
  },
  {
   "cell_type": "markdown",
   "metadata": {},
   "source": [
    "El tipo de dato string es una clase predefinida en Python y los literales pertenecen a la clase string\n",
    "\n",
    "(String is a predefined class in Python and literals belong to the string class)"
   ]
  },
  {
   "cell_type": "code",
   "execution_count": 25,
   "metadata": {},
   "outputs": [],
   "source": [
    " cad=\"En un lugar de La Mancha\""
   ]
  },
  {
   "cell_type": "code",
   "execution_count": 26,
   "metadata": {},
   "outputs": [
    {
     "data": {
      "text/plain": [
       "18"
      ]
     },
     "execution_count": 26,
     "metadata": {},
     "output_type": "execute_result"
    }
   ],
   "source": [
    "#index searches for the position of the string by parameter in the original string\n",
    "cad.index(\"Mancha\")"
   ]
  },
  {
   "cell_type": "code",
   "execution_count": 27,
   "metadata": {},
   "outputs": [],
   "source": [
    "## this would produce an error\n",
    "#cad.index(\"mancha\")"
   ]
  },
  {
   "cell_type": "markdown",
   "metadata": {},
   "source": [
    "Otros métodos de la clase String son find, upper, count, join, split,.. \n",
    "El resultado de join y split son listas que aparecen entre corchetes y separadas por , \n",
    "\n",
    "(Other methods of the String class are find, upper, count, join, split,.... \n",
    "The result of join and split are lists enclosed in square brackets and separated by ,)"
   ]
  },
  {
   "cell_type": "code",
   "execution_count": 28,
   "metadata": {},
   "outputs": [
    {
     "data": {
      "text/plain": [
       "['Rojo', 'y', 'blanco', 'y', 'negro']"
      ]
     },
     "execution_count": 28,
     "metadata": {},
     "output_type": "execute_result"
    }
   ],
   "source": [
    "\"Rojo y blanco y negro\".split(\" \")"
   ]
  },
  {
   "cell_type": "markdown",
   "metadata": {},
   "source": [
    "__Print y format__: la función print permite escribir cadenas de caracteres por pantalla, y el método format de la clase string nos permite manejar cadenas de caracteres que contienen ciertos \"huecos\" (_templates_) que se rellenan con valores concretos (al estilo de C)\n",
    "\n",
    "(__Print y format__: the print function allows us to write string characters to the screen. And the format method allows us handle characters containing gaps (_templates_) that are filled with concreted values (C-Style)"
   ]
  },
  {
   "cell_type": "code",
   "execution_count": 29,
   "metadata": {},
   "outputs": [
    {
     "name": "stdout",
     "output_type": "stream",
     "text": [
      " la  Inteligencia  es  Artificial\n"
     ]
    }
   ],
   "source": [
    "uno =\" la \"\n",
    "dos =\" es \"\n",
    "print(uno,\"Inteligencia\",dos,\"Artificial\")"
   ]
  },
  {
   "cell_type": "code",
   "execution_count": 30,
   "metadata": {},
   "outputs": [
    {
     "name": "stdout",
     "output_type": "stream",
     "text": [
      "2 por 3 es 6\n",
      "4 por 5 es 20\n"
     ]
    }
   ],
   "source": [
    "# The string has three holes\n",
    "c=\"{0} por {1} es {2}\"\n",
    "x,y,u,z = 2,3,4,5\n",
    "print(c.format(x,y,x*y))\n",
    "print(c.format(u,z,u*z))"
   ]
  },
  {
   "cell_type": "markdown",
   "metadata": {},
   "source": [
    "## Pedir datos por consola"
   ]
  },
  {
   "cell_type": "code",
   "execution_count": 31,
   "metadata": {},
   "outputs": [
    {
     "ename": "KeyboardInterrupt",
     "evalue": "Interrupted by user",
     "output_type": "error",
     "traceback": [
      "\u001b[1;31m---------------------------------------------------------------------------\u001b[0m",
      "\u001b[1;31mKeyboardInterrupt\u001b[0m                         Traceback (most recent call last)",
      "Cell \u001b[1;32mIn[31], line 1\u001b[0m\n\u001b[1;32m----> 1\u001b[0m nombre \u001b[38;5;241m=\u001b[39m \u001b[38;5;28minput\u001b[39m(\u001b[38;5;124m'\u001b[39m\u001b[38;5;124mTell me your name:\u001b[39m\u001b[38;5;124m'\u001b[39m) \u001b[38;5;66;03m# input always return string str()\u001b[39;00m\n\u001b[0;32m      2\u001b[0m numero_entero \u001b[38;5;241m=\u001b[39m \u001b[38;5;28mint\u001b[39m(\u001b[38;5;28minput\u001b[39m(\u001b[38;5;124m'\u001b[39m\u001b[38;5;124mTell me a integer namber:\u001b[39m\u001b[38;5;124m'\u001b[39m))\n\u001b[0;32m      3\u001b[0m numero_real \u001b[38;5;241m=\u001b[39m \u001b[38;5;28mfloat\u001b[39m(\u001b[38;5;28minput\u001b[39m(\u001b[38;5;124m'\u001b[39m\u001b[38;5;124mTell me a real number:\u001b[39m\u001b[38;5;124m'\u001b[39m))\n",
      "File \u001b[1;32m~\\anaconda3\\Lib\\site-packages\\ipykernel\\kernelbase.py:1282\u001b[0m, in \u001b[0;36mKernel.raw_input\u001b[1;34m(self, prompt)\u001b[0m\n\u001b[0;32m   1280\u001b[0m     msg \u001b[38;5;241m=\u001b[39m \u001b[38;5;124m\"\u001b[39m\u001b[38;5;124mraw_input was called, but this frontend does not support input requests.\u001b[39m\u001b[38;5;124m\"\u001b[39m\n\u001b[0;32m   1281\u001b[0m     \u001b[38;5;28;01mraise\u001b[39;00m StdinNotImplementedError(msg)\n\u001b[1;32m-> 1282\u001b[0m \u001b[38;5;28;01mreturn\u001b[39;00m \u001b[38;5;28mself\u001b[39m\u001b[38;5;241m.\u001b[39m_input_request(\n\u001b[0;32m   1283\u001b[0m     \u001b[38;5;28mstr\u001b[39m(prompt),\n\u001b[0;32m   1284\u001b[0m     \u001b[38;5;28mself\u001b[39m\u001b[38;5;241m.\u001b[39m_parent_ident[\u001b[38;5;124m\"\u001b[39m\u001b[38;5;124mshell\u001b[39m\u001b[38;5;124m\"\u001b[39m],\n\u001b[0;32m   1285\u001b[0m     \u001b[38;5;28mself\u001b[39m\u001b[38;5;241m.\u001b[39mget_parent(\u001b[38;5;124m\"\u001b[39m\u001b[38;5;124mshell\u001b[39m\u001b[38;5;124m\"\u001b[39m),\n\u001b[0;32m   1286\u001b[0m     password\u001b[38;5;241m=\u001b[39m\u001b[38;5;28;01mFalse\u001b[39;00m,\n\u001b[0;32m   1287\u001b[0m )\n",
      "File \u001b[1;32m~\\anaconda3\\Lib\\site-packages\\ipykernel\\kernelbase.py:1325\u001b[0m, in \u001b[0;36mKernel._input_request\u001b[1;34m(self, prompt, ident, parent, password)\u001b[0m\n\u001b[0;32m   1322\u001b[0m \u001b[38;5;28;01mexcept\u001b[39;00m \u001b[38;5;167;01mKeyboardInterrupt\u001b[39;00m:\n\u001b[0;32m   1323\u001b[0m     \u001b[38;5;66;03m# re-raise KeyboardInterrupt, to truncate traceback\u001b[39;00m\n\u001b[0;32m   1324\u001b[0m     msg \u001b[38;5;241m=\u001b[39m \u001b[38;5;124m\"\u001b[39m\u001b[38;5;124mInterrupted by user\u001b[39m\u001b[38;5;124m\"\u001b[39m\n\u001b[1;32m-> 1325\u001b[0m     \u001b[38;5;28;01mraise\u001b[39;00m \u001b[38;5;167;01mKeyboardInterrupt\u001b[39;00m(msg) \u001b[38;5;28;01mfrom\u001b[39;00m\u001b[38;5;250m \u001b[39m\u001b[38;5;28;01mNone\u001b[39;00m\n\u001b[0;32m   1326\u001b[0m \u001b[38;5;28;01mexcept\u001b[39;00m \u001b[38;5;167;01mException\u001b[39;00m:\n\u001b[0;32m   1327\u001b[0m     \u001b[38;5;28mself\u001b[39m\u001b[38;5;241m.\u001b[39mlog\u001b[38;5;241m.\u001b[39mwarning(\u001b[38;5;124m\"\u001b[39m\u001b[38;5;124mInvalid Message:\u001b[39m\u001b[38;5;124m\"\u001b[39m, exc_info\u001b[38;5;241m=\u001b[39m\u001b[38;5;28;01mTrue\u001b[39;00m)\n",
      "\u001b[1;31mKeyboardInterrupt\u001b[0m: Interrupted by user"
     ]
    }
   ],
   "source": [
    "nombre = input('Tell me your name:') # input always return string str()\n",
    "numero_entero = int(input('Tell me a integer namber:'))\n",
    "numero_real = float(input('Tell me a real number:'))\n",
    "print('Name:', nombre, 'Integer:', numero_entero, 'Real:', numero_real)"
   ]
  },
  {
   "cell_type": "markdown",
   "metadata": {},
   "source": [
    "## Condicionales"
   ]
  },
  {
   "cell_type": "code",
   "execution_count": null,
   "metadata": {},
   "outputs": [],
   "source": [
    "x = 25\n",
    "if x % 2 == 0:\n",
    "    print('Divisible by 2')\n",
    "elif x % 3 == 0:\n",
    "    print('Divisible by 3')\n",
    "elif x % 5 == 0:\n",
    "    print('Divisible by 5')\n",
    "else:\n",
    "    print('I don\\'t know')"
   ]
  },
  {
   "cell_type": "code",
   "execution_count": null,
   "metadata": {},
   "outputs": [],
   "source": [
    "# condiciones compuestas\n",
    "year = int(input('Enter a year:'))\n",
    "if year % 400 == 0 or (year % 4 == 0 and year % 100 != 0):\n",
    "    print('leap year')\n",
    "else:\n",
    "    print('is not leap year')"
   ]
  },
  {
   "cell_type": "code",
   "execution_count": null,
   "metadata": {},
   "outputs": [],
   "source": [
    "2==2"
   ]
  },
  {
   "cell_type": "markdown",
   "metadata": {},
   "source": [
    "Los valores logicos de verdad y falsedad en Python son `True` y `False`. Podemos comparar variables con el operador de comparación `==` (no confundir con el de asignación `=`), o comprobar si son distintos con `!=`.\n",
    "\n",
    "(The logical values for truth and falsehood in Python are `True` and `False`. We can compare variables with the comparison operator `==` (not to be confused with the assignment operator `=`), or check if they are different with `!=`.)"
   ]
  },
  {
   "cell_type": "code",
   "execution_count": null,
   "metadata": {},
   "outputs": [],
   "source": [
    "2!=4 and 2==1"
   ]
  },
  {
   "cell_type": "markdown",
   "metadata": {},
   "source": [
    "## Bucles básicos"
   ]
  },
  {
   "cell_type": "code",
   "execution_count": null,
   "metadata": {},
   "outputs": [],
   "source": [
    "suma = 0\n",
    "i = 1\n",
    "while i <= 10:\n",
    "    suma += i\n",
    "    i += 1\n",
    "suma"
   ]
  },
  {
   "cell_type": "markdown",
   "metadata": {},
   "source": [
    "## Tuplas"
   ]
  },
  {
   "cell_type": "markdown",
   "metadata": {},
   "source": [
    "Las _tuplas_ en Python son secuencias de datos separadas por comas. Usualmente van entre paréntesis, aunque no es obligatorio (excepto para la tupla vacía). Ejemplos:  \n",
    "\n",
    "(Python tuples are comma-separated sequences of data. They are usually enclosed in parentheses, although this is not mandatory (except for the empty tuple). Examples:)"
   ]
  },
  {
   "cell_type": "code",
   "execution_count": null,
   "metadata": {},
   "outputs": [],
   "source": [
    "# The comma operator creates tuples. They may or may not be enclosed in parentheses.\n",
    "a = 1, 2, 3\n",
    "print(a)\n",
    "b = (4, 5, 6)\n",
    "print(b)"
   ]
  },
  {
   "cell_type": "markdown",
   "metadata": {},
   "source": [
    "Como las tuplas son secuencias, algunas de las operaciones de strings, también se pueden aplicar a las tuplas. En particular, el acceso a elementos a través de la posición, el operador de slicing, o la concatenación\n",
    "\n",
    "(As tuples are sequences, some of the operations on strings can also be applied to tuples. For example, the access to specific element using the position, the slicing operator or concatenation)"
   ]
  },
  {
   "cell_type": "code",
   "execution_count": null,
   "metadata": {},
   "outputs": [],
   "source": [
    "# Its elements can be read using the position\n",
    "a[0]"
   ]
  },
  {
   "cell_type": "code",
   "execution_count": null,
   "metadata": {},
   "outputs": [],
   "source": [
    "# The tupples are inmutable\n",
    "#a[0] = 10 # ERROR!"
   ]
  },
  {
   "cell_type": "code",
   "execution_count": null,
   "metadata": {},
   "outputs": [],
   "source": [
    "d = 10, 20, 30\n",
    "print(d)"
   ]
  },
  {
   "cell_type": "code",
   "execution_count": null,
   "metadata": {},
   "outputs": [],
   "source": [
    "1, # Not to be confused with (1)"
   ]
  },
  {
   "cell_type": "code",
   "execution_count": null,
   "metadata": {},
   "outputs": [],
   "source": [
    "(1)"
   ]
  },
  {
   "cell_type": "code",
   "execution_count": null,
   "metadata": {},
   "outputs": [],
   "source": [
    "1"
   ]
  },
  {
   "cell_type": "code",
   "execution_count": null,
   "metadata": {},
   "outputs": [],
   "source": [
    "a=(\"One\",\"Two\",\"Three\",\"Four\")"
   ]
  },
  {
   "cell_type": "code",
   "execution_count": null,
   "metadata": {},
   "outputs": [],
   "source": [
    "a[::1]"
   ]
  },
  {
   "cell_type": "code",
   "execution_count": null,
   "metadata": {},
   "outputs": [],
   "source": [
    "#inversed\n",
    "a[::-1]"
   ]
  },
  {
   "cell_type": "markdown",
   "metadata": {},
   "source": [
    "## Rangos"
   ]
  },
  {
   "cell_type": "code",
   "execution_count": null,
   "metadata": {},
   "outputs": [],
   "source": [
    "range(1, 10) #  1 al 9  >=1 y <10"
   ]
  },
  {
   "cell_type": "code",
   "execution_count": null,
   "metadata": {},
   "outputs": [],
   "source": [
    "for x in range(1, 10):\n",
    "    print(x)"
   ]
  },
  {
   "cell_type": "code",
   "execution_count": null,
   "metadata": {},
   "outputs": [],
   "source": [
    "#  1 to 9 from 3 to 3\n",
    "for x in range(1, 10, 3): \n",
    "    print(x)"
   ]
  },
  {
   "cell_type": "code",
   "execution_count": null,
   "metadata": {},
   "outputs": [],
   "source": [
    "#  10 to 2 back to front\n",
    "for x in range(10, 1, -1):\n",
    "    print(x)\n",
    "    "
   ]
  },
  {
   "cell_type": "code",
   "execution_count": null,
   "metadata": {},
   "outputs": [],
   "source": [
    "for x in range(10, 1, 1):\n",
    "    print(x)\n",
    "\n",
    "# does not show anything because 10 is greater than 1. The positive direction expects second numbers greater than first."
   ]
  },
  {
   "cell_type": "code",
   "execution_count": null,
   "metadata": {},
   "outputs": [],
   "source": [
    "# if it has only one argument it is the upper limit\n",
    "for x in range(3):\n",
    "    print(x)"
   ]
  },
  {
   "cell_type": "markdown",
   "metadata": {},
   "source": [
    "## Listas"
   ]
  },
  {
   "cell_type": "markdown",
   "metadata": {},
   "source": [
    "Las listas, al igual que las tuplas, son __secuencias__ de datos. Pero son __mutables__ (es decir, podemos cambiar su contenido).\n",
    "\n",
    "Una lista se representa como una secuencia de datos entre corchetes y separadas por comas. \n",
    "\n",
    "(List are similar to tuples (they are also __secuences__) but they are __mutables__.)"
   ]
  },
  {
   "cell_type": "code",
   "execution_count": null,
   "metadata": {},
   "outputs": [],
   "source": [
    "tupla=(\"Uno\",\"Dos\",\"Tres\",\"Cuatro\")\n",
    "lista=[\"Uno\",\"Dos\",\"Tres\",\"Cuatro\"]"
   ]
  },
  {
   "cell_type": "code",
   "execution_count": null,
   "metadata": {},
   "outputs": [],
   "source": [
    "lista[0]='Otro'"
   ]
  },
  {
   "cell_type": "code",
   "execution_count": null,
   "metadata": {},
   "outputs": [],
   "source": [
    "lista"
   ]
  },
  {
   "cell_type": "code",
   "execution_count": null,
   "metadata": {},
   "outputs": [],
   "source": [
    "a = [] # Empty list\n",
    "len(a) # returns the length of the list"
   ]
  },
  {
   "cell_type": "code",
   "execution_count": null,
   "metadata": {},
   "outputs": [],
   "source": [
    "# May contain any type of combined elements. \n",
    "# Append is used to add elements. \n",
    "a.append('hola')\n",
    "a.append(123)\n",
    "a.append(True)\n",
    "a"
   ]
  },
  {
   "cell_type": "markdown",
   "metadata": {},
   "source": [
    "Los métodos `append` y `extend`, respectivamente añaden un elemento al final, y concatenan una lista al final.\n",
    "\n",
    "(`append` and `extend` methods respectively append and concatenate an element at the end of the list. )"
   ]
  },
  {
   "cell_type": "code",
   "execution_count": null,
   "metadata": {},
   "outputs": [],
   "source": [
    "a = [\"Hola\"]\n",
    "a.extend([6,\"que tal\"])\n",
    "a"
   ]
  },
  {
   "cell_type": "code",
   "execution_count": null,
   "metadata": {},
   "outputs": [],
   "source": [
    "# May access and modify its elements by directly using the position\n",
    "a[1] += 1\n",
    "a"
   ]
  },
  {
   "cell_type": "code",
   "execution_count": null,
   "metadata": {},
   "outputs": [],
   "source": [
    "# we can delete elements from its position\n",
    "del a[0]\n",
    "a"
   ]
  },
  {
   "cell_type": "code",
   "execution_count": null,
   "metadata": {},
   "outputs": [],
   "source": [
    "# If the item is missing or the list is empty it gives an error\n",
    "a.remove(7)\n",
    "a"
   ]
  },
  {
   "cell_type": "code",
   "execution_count": null,
   "metadata": {},
   "outputs": [],
   "source": [
    "# The pop method removes an item from a list and returns that item as a value.\n",
    "# If we pop into an empty list it gives an error\n",
    "a.pop()"
   ]
  },
  {
   "cell_type": "code",
   "execution_count": null,
   "metadata": {},
   "outputs": [],
   "source": [
    "a = [1, 2, 3, 4]\n",
    "a"
   ]
  },
  {
   "cell_type": "code",
   "execution_count": null,
   "metadata": {},
   "outputs": [],
   "source": [
    "# In python we can define lists by 'comprehension':\n",
    "a = [2*x for x in range(1,10)]\n",
    "a"
   ]
  },
  {
   "cell_type": "code",
   "execution_count": null,
   "metadata": {},
   "outputs": [],
   "source": [
    "# the foor loop allows iterate over list\n",
    "for elemento in a: \n",
    "    print(elemento)"
   ]
  },
  {
   "cell_type": "code",
   "execution_count": null,
   "metadata": {},
   "outputs": [],
   "source": [
    "a = list(range(1,11)) # list() create lists\n",
    "a"
   ]
  },
  {
   "cell_type": "markdown",
   "metadata": {},
   "source": [
    "Con el operador de slicing ':' que hemos visto para tuplas podemos seleccionar trozos de una lista y trabajar con ellos como si fueran listas. \n",
    "\n",
    "(With slicing operator ':', we can select chunck of list and work with them as if they ware list "
   ]
  },
  {
   "cell_type": "code",
   "execution_count": null,
   "metadata": {},
   "outputs": [],
   "source": [
    "#The `insert` method inserts an item into a list, at a given position.\n",
    "a.insert(3,\"x\")"
   ]
  },
  {
   "cell_type": "code",
   "execution_count": null,
   "metadata": {},
   "outputs": [],
   "source": [
    "a"
   ]
  },
  {
   "cell_type": "code",
   "execution_count": null,
   "metadata": {},
   "outputs": [],
   "source": [
    "\n",
    "a[:2]"
   ]
  },
  {
   "cell_type": "code",
   "execution_count": null,
   "metadata": {},
   "outputs": [],
   "source": [
    "a[0:3] # Selection of the first three elements. Also can be write a[:3]"
   ]
  },
  {
   "cell_type": "code",
   "execution_count": null,
   "metadata": {},
   "outputs": [],
   "source": [
    "a[1:4] # selection of elements in positions 1, 2 and 3"
   ]
  },
  {
   "cell_type": "code",
   "execution_count": null,
   "metadata": {},
   "outputs": [],
   "source": [
    "a[1:6:2] # jump from 2 by 2"
   ]
  },
  {
   "cell_type": "code",
   "execution_count": null,
   "metadata": {},
   "outputs": [],
   "source": [
    "a[3:0:-1] # elements in positions 3, 2, 1"
   ]
  },
  {
   "cell_type": "code",
   "execution_count": null,
   "metadata": {},
   "outputs": [],
   "source": [
    "a[::-1] # display the list backwards"
   ]
  },
  {
   "cell_type": "code",
   "execution_count": null,
   "metadata": {},
   "outputs": [],
   "source": [
    "a[-3:] # the last three elements of the list"
   ]
  },
  {
   "cell_type": "code",
   "execution_count": null,
   "metadata": {},
   "outputs": [],
   "source": [
    "bocadillo = [\"pan\", \"jamon\", \"pan\"]\n",
    "bocadillo = 2*bocadillo[:2] + [\"huevo\"]\n",
    "print(bocadillo)\n",
    "bocadillo + [bocadillo[-1]]"
   ]
  },
  {
   "cell_type": "code",
   "execution_count": null,
   "metadata": {},
   "outputs": [],
   "source": [
    "\"tomate\" in bocadillo"
   ]
  },
  {
   "cell_type": "code",
   "execution_count": null,
   "metadata": {},
   "outputs": [],
   "source": [
    "\n",
    "l=[28,1,54,6]\n",
    "m=l # asignamos a m \"el valor\" de l\n",
    "m[2]=11 # cambiamos m"
   ]
  },
  {
   "cell_type": "markdown",
   "metadata": {},
   "source": [
    "La secuencia anterior tiene un error muy común debido a que las variables en Python son referencias. Estamos modificando m y l al mismo tiempo\n",
    "\n",
    "(The above sequence has a very common error because variables in Python are references. In this instruction, we are modifying m and l at the same time.)"
   ]
  },
  {
   "cell_type": "code",
   "execution_count": null,
   "metadata": {},
   "outputs": [],
   "source": [
    "m"
   ]
  },
  {
   "cell_type": "code",
   "execution_count": null,
   "metadata": {},
   "outputs": [],
   "source": [
    "l"
   ]
  },
  {
   "cell_type": "markdown",
   "metadata": {},
   "source": [
    "La forma correcta de hacerlo seria haciendo una copia de L usando slicing.\n",
    "\n",
    "(The correct way to do this would be to make a copy of the list using slicing)"
   ]
  },
  {
   "cell_type": "code",
   "execution_count": null,
   "metadata": {},
   "outputs": [],
   "source": [
    "l=[28,1,22,6]\n",
    "m=l[:] #  \n",
    "m[2]=11 # change only m"
   ]
  },
  {
   "cell_type": "code",
   "execution_count": null,
   "metadata": {},
   "outputs": [],
   "source": [
    "m"
   ]
  },
  {
   "cell_type": "code",
   "execution_count": null,
   "metadata": {},
   "outputs": [],
   "source": [
    "l"
   ]
  },
  {
   "cell_type": "markdown",
   "metadata": {},
   "source": [
    "## Conjuntos"
   ]
  },
  {
   "cell_type": "code",
   "execution_count": null,
   "metadata": {},
   "outputs": [],
   "source": [
    "dias_semana = { 'lunes', 'martes', 'miércoles', 'jueves', 'viernes', 'sábado'}"
   ]
  },
  {
   "cell_type": "code",
   "execution_count": null,
   "metadata": {},
   "outputs": [],
   "source": [
    "# pertenencia\n",
    "'miércoles' in dias_semana"
   ]
  },
  {
   "cell_type": "code",
   "execution_count": null,
   "metadata": {},
   "outputs": [],
   "source": [
    "'domingo' in dias_semana"
   ]
  },
  {
   "cell_type": "code",
   "execution_count": null,
   "metadata": {},
   "outputs": [],
   "source": [
    "# adding elements\n",
    "dias_semana.add('domingo')\n",
    "'domingo' in dias_semana"
   ]
  },
  {
   "cell_type": "code",
   "execution_count": null,
   "metadata": {},
   "outputs": [],
   "source": [
    "# the elements not store in order\n",
    "dias_semana"
   ]
  },
  {
   "cell_type": "code",
   "execution_count": null,
   "metadata": {},
   "outputs": [],
   "source": [
    "# we can't repeat elements\n",
    "print(len(dias_semana)) # number of elements\n",
    "dias_semana.add('lunes')  \n",
    "print(len(dias_semana))"
   ]
  },
  {
   "cell_type": "code",
   "execution_count": null,
   "metadata": {},
   "outputs": [],
   "source": [
    "# iteration over sets\n",
    "for elemento in dias_semana:\n",
    "    print(elemento)"
   ]
  },
  {
   "cell_type": "code",
   "execution_count": null,
   "metadata": {},
   "outputs": [],
   "source": [
    "# set() create sets\n",
    "# use case: remove duplicate items \n",
    "set([1,2,3,1,2,3,1,2,3])"
   ]
  },
  {
   "cell_type": "code",
   "execution_count": null,
   "metadata": {},
   "outputs": [],
   "source": [
    "# by comprehension\n",
    "cuadrados = { x**2 for x in range(1,10)}\n",
    "cuadrados"
   ]
  },
  {
   "cell_type": "markdown",
   "metadata": {},
   "source": [
    "## Diccionarios"
   ]
  },
  {
   "cell_type": "markdown",
   "metadata": {},
   "source": [
    "Un diccionario en Python es una estructura de datos que permite asignar valores a una serie de elementos (claves). En otros lenguajes de programación, esta estructura de datos se conoce como map o tabla hash. \n",
    "Se representan como un conjunto de parejas clave:valor, separadas por comas y entre llaves. En el siguiente ejemplo, la clave \"juan\" tienen asignado el valor 4098, y la clave \"ana\" tienen asignado el valor 4139\n",
    "\n",
    "(A Python dictionary is a data structure that allows you to assign values to a elements (keys). In other programming languages, this structure is known as a map or hash table. \n",
    "They are represented as a set of key:value pairs. It's defined by commas and enclosed in braces. In the following example, the key \"juan\" is assigned the value 4098, and the key \"ana\" is assigned the value 4139.)"
   ]
  },
  {
   "cell_type": "code",
   "execution_count": null,
   "metadata": {},
   "outputs": [],
   "source": [
    "dict_telefonos = {\"juan\": 4098, \"ana\": 4139}\n",
    "#acceso a clave\n",
    "dict_telefonos[\"ana\"]\n",
    "#añadir una nueva pareja clave/valor\n",
    "dict_telefonos[\"pedro\"]=2321\n",
    "#cambiar un valor\n",
    "dict_telefonos[\"ana\"] = 4140"
   ]
  },
  {
   "cell_type": "code",
   "execution_count": null,
   "metadata": {},
   "outputs": [],
   "source": [
    "dict_telefonos"
   ]
  },
  {
   "cell_type": "code",
   "execution_count": null,
   "metadata": {},
   "outputs": [],
   "source": [
    "#delete a pair by key\n",
    "del dict_telefonos[\"ana\"]\n",
    "print(dict_telefonos)"
   ]
  },
  {
   "cell_type": "code",
   "execution_count": null,
   "metadata": {},
   "outputs": [],
   "source": [
    "diccionario = {'uno': 'one', 'dos': 'two', 'tres': 'three', 'cuatro': 'four'}\n",
    "diccionario"
   ]
  },
  {
   "cell_type": "code",
   "execution_count": null,
   "metadata": {},
   "outputs": [],
   "source": [
    "# access elements by key\n",
    "diccionario['uno']"
   ]
  },
  {
   "cell_type": "code",
   "execution_count": null,
   "metadata": {},
   "outputs": [],
   "source": [
    "# all keys\n",
    "diccionario.keys()"
   ]
  },
  {
   "cell_type": "code",
   "execution_count": null,
   "metadata": {},
   "outputs": [],
   "source": [
    "# pairs (key, value)\n",
    "diccionario.items()"
   ]
  },
  {
   "cell_type": "code",
   "execution_count": null,
   "metadata": {},
   "outputs": [],
   "source": [
    "# Are mutables\n",
    "diccionario['cinco'] = 'five'\n",
    "diccionario"
   ]
  },
  {
   "cell_type": "code",
   "execution_count": null,
   "metadata": {},
   "outputs": [],
   "source": [
    "# number of elements\n",
    "len(diccionario)"
   ]
  },
  {
   "cell_type": "code",
   "execution_count": null,
   "metadata": {},
   "outputs": [],
   "source": [
    "# iteration\n",
    "for clave in diccionario:\n",
    "    print(clave, diccionario[clave])"
   ]
  },
  {
   "cell_type": "code",
   "execution_count": null,
   "metadata": {},
   "outputs": [],
   "source": [
    "for clave, valor in diccionario.items():\n",
    "    print(clave, valor)"
   ]
  },
  {
   "cell_type": "code",
   "execution_count": null,
   "metadata": {},
   "outputs": [],
   "source": [
    "print('---Iterators---')\n",
    "cities = {'Madrid', 'Paris', 'Berlín', 'Roma', 'Londres', 'Dublín'}\n",
    "iterador = iter(cities)\n",
    "print(next(iterador))\n",
    "print(next(iterador))\n",
    "print(next(iterador))"
   ]
  },
  {
   "cell_type": "markdown",
   "metadata": {},
   "source": [
    "### Otros patrones de iteración\n",
    "\n",
    "- `for k in dicc:` iterate variable `k` over the keys in the dictionary `dicc`.\n",
    "- `for (k,v) in dic.items():` iterate the pair `(k,v)`over the pairs $(clave,valor)$ in the dictionary `dicc`.\n",
    "- `for (i,x) in enumerate(l):` iterate the pair `(i,x)`, where `x` store the elements of `l` and `i` the position of the `x` in `l`.\n",
    "- `for (u,v) in zip(l,m):` iterate the pair `(u,v)` over elements of `l` and `m` that stored in the same position. \n",
    "- `for x in reversed(l):` iterate `x` over `l`, but in reverse order."
   ]
  },
  {
   "cell_type": "code",
   "execution_count": null,
   "metadata": {},
   "outputs": [],
   "source": [
    "preguntas = [\"nombre\", \"apellido\", \"color favorito\"]\n",
    "respuestas = [\"Juan\", \"Pérez\", \"rojo\"]\n",
    "\n",
    "for p, r in zip(preguntas, respuestas):\n",
    "    print(\"Mi {} es {}.\".format(p, r))\n"
   ]
  },
  {
   "cell_type": "markdown",
   "metadata": {},
   "source": [
    "## Funciones"
   ]
  },
  {
   "cell_type": "code",
   "execution_count": null,
   "metadata": {},
   "outputs": [],
   "source": [
    "# Definition\n",
    "def resta(x, y):\n",
    "    return x - y"
   ]
  },
  {
   "cell_type": "code",
   "execution_count": null,
   "metadata": {},
   "outputs": [],
   "source": [
    "resta(20, 5)"
   ]
  },
  {
   "cell_type": "code",
   "execution_count": null,
   "metadata": {},
   "outputs": [],
   "source": [
    "# Set the arguments by name or by position\n",
    "resta(y=2, x=10)"
   ]
  },
  {
   "cell_type": "code",
   "execution_count": null,
   "metadata": {},
   "outputs": [],
   "source": [
    "#We mix, the first ones have to be passed by position\n",
    "resta(10, y=3)"
   ]
  },
  {
   "cell_type": "code",
   "execution_count": null,
   "metadata": {},
   "outputs": [],
   "source": [
    "# the basic type are passed by value\n",
    "def incrementa_mal(x):\n",
    "    x += 1\n",
    "\n",
    "x = 5\n",
    "incrementa_mal(x)\n",
    "x"
   ]
  },
  {
   "cell_type": "code",
   "execution_count": null,
   "metadata": {},
   "outputs": [],
   "source": [
    "# Object or composite type are passed by reference\n",
    "def add_dos(lista):\n",
    "    lista.append(2)\n",
    "    \n",
    "l = []\n",
    "add_dos(l)\n",
    "l"
   ]
  },
  {
   "cell_type": "code",
   "execution_count": null,
   "metadata": {},
   "outputs": [],
   "source": [
    "# functions can return multiple values\n",
    "def suma_resta(x, y):\n",
    "    return x + y, x - y\n",
    "\n",
    "a, b, = suma_resta(10, 3)\n",
    "a, b"
   ]
  },
  {
   "cell_type": "code",
   "execution_count": null,
   "metadata": {},
   "outputs": [],
   "source": [
    "# Parameters may have default values\n",
    "def incrementa(x, delta=1):\n",
    "    return x + delta\n",
    "\n",
    "print(incrementa(5, 2))\n",
    "print(incrementa(5))"
   ]
  },
  {
   "cell_type": "markdown",
   "metadata": {},
   "source": [
    "## Módulos"
   ]
  },
  {
   "cell_type": "code",
   "execution_count": null,
   "metadata": {},
   "outputs": [],
   "source": [
    "# To usage funtions of a module, you must first import it\n",
    "import math\n",
    "\n",
    "math.factorial(10)"
   ]
  },
  {
   "cell_type": "code",
   "execution_count": null,
   "metadata": {},
   "outputs": [],
   "source": [
    "# We can give it a sort name\n",
    "import numpy as np\n",
    "\n",
    "np.add([1, 2, 3], [3, 4, 5]) # suma de vectores"
   ]
  },
  {
   "cell_type": "code",
   "execution_count": null,
   "metadata": {},
   "outputs": [],
   "source": [
    "# We can olso import a specific funtion and avoid write the module name\n",
    "from math import factorial\n",
    "\n",
    "factorial(10)"
   ]
  },
  {
   "cell_type": "code",
   "execution_count": null,
   "metadata": {},
   "outputs": [],
   "source": [
    "# Libraries can export several modules\n",
    "import matplotlib.pyplot as plt\n",
    "\n",
    "x = np.linspace(-10, 10, 21) # Generate 21 equidistant values from -10 to 10\n",
    "y = [e*e for e in x]\n",
    "plt.plot(x, y)"
   ]
  },
  {
   "cell_type": "markdown",
   "metadata": {},
   "source": [
    "Y muchas cosas más...\n",
    "\n",
    "https://docs.python.org"
   ]
  },
  {
   "cell_type": "markdown",
   "metadata": {},
   "source": [
    "# Numpy"
   ]
  },
  {
   "cell_type": "markdown",
   "metadata": {},
   "source": [
    "Una de las grandes carencias de Python es que no tiene arrays y las listas no son eficientes para trabajar con grandes cantidades de datos. Numpy es la biblioteca que permite la gestión eficiente de arrays multidimensionales.\n",
    "\n",
    "(One of the big shortcomings of Python is that it does not have arrays and lists are not efficient for working with large amounts of data. Numpy is the library that allows efficient management of multidimensional arrays.)"
   ]
  },
  {
   "cell_type": "code",
   "execution_count": null,
   "metadata": {},
   "outputs": [],
   "source": [
    "import numpy as np\n",
    "\n",
    "# Convert list to array\n",
    "l = [1, 2, 3, 4, 5, 6, 7, 8, 9]\n",
    "a = np.array(l)\n",
    "a"
   ]
  },
  {
   "cell_type": "code",
   "execution_count": null,
   "metadata": {},
   "outputs": [],
   "source": [
    "# Change the array dimension\n",
    "b = a.reshape(3,3)\n",
    "b"
   ]
  },
  {
   "cell_type": "code",
   "execution_count": null,
   "metadata": {},
   "outputs": [],
   "source": [
    "# Get the array dimension\n",
    "b.shape"
   ]
  },
  {
   "cell_type": "code",
   "execution_count": null,
   "metadata": {},
   "outputs": [],
   "source": [
    "# Access to especific elements\n",
    "print(b[0,0])\n",
    "print(b[0,1])\n",
    "print(b[2,2])"
   ]
  },
  {
   "cell_type": "code",
   "execution_count": null,
   "metadata": {},
   "outputs": [],
   "source": [
    "# Views of subaarays.\n",
    "b[0:2, 0:3]"
   ]
  },
  {
   "cell_type": "code",
   "execution_count": null,
   "metadata": {},
   "outputs": [],
   "source": [
    "# initialises an array to zeros, the size of the array is 2 rows y 5 columns in this example.\n",
    "np.zeros((2,5))"
   ]
  },
  {
   "cell_type": "code",
   "execution_count": null,
   "metadata": {},
   "outputs": [],
   "source": [
    "np.ones((2,5))"
   ]
  },
  {
   "cell_type": "code",
   "execution_count": null,
   "metadata": {},
   "outputs": [],
   "source": [
    "# return a eye matrix of 5x5 \n",
    "np.eye(5,5)     "
   ]
  },
  {
   "cell_type": "code",
   "execution_count": null,
   "metadata": {},
   "outputs": [],
   "source": [
    "# arange returns an array with the values from 1 to 9.\n",
    "m = np.arange(1,10).reshape(3,3)\n",
    "m"
   ]
  },
  {
   "cell_type": "code",
   "execution_count": null,
   "metadata": {},
   "outputs": [],
   "source": [
    "# The product operator is applied to all elements. Other operatos like add or substract work in the same way\n",
    "m * 2"
   ]
  },
  {
   "cell_type": "code",
   "execution_count": null,
   "metadata": {},
   "outputs": [],
   "source": [
    "2 ** m"
   ]
  },
  {
   "cell_type": "code",
   "execution_count": null,
   "metadata": {},
   "outputs": [],
   "source": [
    "# The method sum() add all elements.\n",
    "m.sum()"
   ]
  },
  {
   "cell_type": "code",
   "execution_count": null,
   "metadata": {},
   "outputs": [],
   "source": [
    "# Axis=0 by columns, 1 by rows\n",
    "m.sum(axis=0)"
   ]
  },
  {
   "cell_type": "code",
   "execution_count": null,
   "metadata": {},
   "outputs": [],
   "source": [
    "# suma por filas\n",
    "m.sum(axis=1)"
   ]
  },
  {
   "cell_type": "code",
   "execution_count": null,
   "metadata": {},
   "outputs": [],
   "source": [
    "# Dot product of two matrix (Producto escalar)\n",
    "dotP = np.dot(m, m)\n",
    "print(dotP)\n",
    "VectP = np.cross(m,m)\n",
    "print(VectP)"
   ]
  },
  {
   "cell_type": "code",
   "execution_count": null,
   "metadata": {},
   "outputs": [],
   "source": [
    "#Matrices\n",
    "a = np.array([[0,1,2,3], [4,5,6,7], [8,9,10,11]])\n",
    "rows, cols = np.shape(a)"
   ]
  },
  {
   "cell_type": "code",
   "execution_count": null,
   "metadata": {},
   "outputs": [],
   "source": [
    "#Inicialization.\n",
    "v=np.zeros((3,4))\n",
    "print('Zeros ')\n",
    "print(v)\n",
    "print('Eye ')\n",
    "e=np.eye(4)\n",
    "print(e)\n",
    "print('Complex ')\n",
    "#Return a array of zeros but with the same format and type of the parameter. \n",
    "z=np.zeros_like(b)\n",
    "print(z)"
   ]
  },
  {
   "cell_type": "code",
   "execution_count": null,
   "metadata": {},
   "outputs": [],
   "source": [
    "a = np.arange(7)\n",
    "print(a)\n",
    "diagonal = np.diag(a)\n",
    "print( diagonal )"
   ]
  },
  {
   "cell_type": "code",
   "execution_count": null,
   "metadata": {},
   "outputs": [],
   "source": [
    "#Sparse matrix\n",
    "from scipy import sparse\n",
    "\n",
    "X = np.random.random((5,6))\n",
    "print(X)\n",
    "X[X < 0.85] = 0 # Select elements value less than 0.85 and set them to 0.\n",
    "print(X)\n",
    "x_csr = sparse.csr_matrix(X) #CSR (Compress sparse row)\n",
    "\n",
    "print(x_csr)\n",
    "\n",
    "print(x_csr.toarray())"
   ]
  },
  {
   "cell_type": "markdown",
   "metadata": {},
   "source": [
    "Broadcasting NumPy distribuye el vector de menor dimensión sobre el largo para conseguir dimensiones compatibles. No siempre es posible hacerlo, las dimensiones deben ser compatibles.\n",
    "\n",
    "(Broadcasting NumPy distributes the vector of smaller dimension over the long one to achieve compatible dimensions. This is not always possible, the dimensions must be compatible.)"
   ]
  },
  {
   "cell_type": "code",
   "execution_count": null,
   "metadata": {},
   "outputs": [],
   "source": [
    "#broadcasting\n",
    "a = np.array([1.0,2.0,3.0])\n",
    "b = np.array([2.0,2.0,2.0])\n",
    "c = a*b\n",
    "print(c)\n",
    "print(\"--------\")\n",
    "a = np.array([[0.0,0.0,0.0],\n",
    "              [10.0,10.0,10.0],\n",
    "              [20.0,20.0,20.0],\n",
    "              [30.0,30.0,30.0]])\n",
    "b = np.array([1.0,2.0,3.0]) # is not possible, the dimensions ar not the same.\n",
    "# in this case, numpy distributes the operation as a kind of 'convolution'\n",
    "#over the whole large matrix. Still, both sizes must be multiples.\n",
    "c = a + b\n",
    "print(c)"
   ]
  },
  {
   "cell_type": "code",
   "execution_count": null,
   "metadata": {},
   "outputs": [],
   "source": [
    "#Other operations\n",
    "np.random.seed(12345) # set a random seed\n",
    "r=np.random.rand(4)\n",
    "print(r)\n",
    "rint=r.astype(int)  #change the type\n",
    "print(rint)\n",
    "print(np.round(r))\n",
    "\n",
    "#Determinant \n",
    "from scipy import linalg\n",
    "arr = np.array([[1,2],[3,4]])\n",
    "linalg.det(arr)\n",
    "\n",
    "#inverse matrix\n",
    "linalg.inv(arr)"
   ]
  },
  {
   "cell_type": "markdown",
   "metadata": {},
   "source": [
    "Y muchas cosas más...\n",
    "\n",
    "http://www.numpy.org/"
   ]
  },
  {
   "cell_type": "markdown",
   "metadata": {},
   "source": [
    "## Definiciones de clases"
   ]
  },
  {
   "cell_type": "code",
   "execution_count": null,
   "metadata": {},
   "outputs": [],
   "source": [
    "#Python class definition\n",
    "class Rectangulo:\n",
    "    def __init__(self,x,y): # constructor\n",
    "        self.x = x #internal parámetres (fields, attributes...)\n",
    "        self.y = y\n",
    "        \n",
    "    autor = \"anonimo\" # Can create parameters out of constructor.\n",
    "    descripcion=\"It's a rectangle\"\n",
    "    \n",
    "    def area(self):\n",
    "        return self.x*self.y\n",
    "    \n",
    "    def perimetro(self, number):\n",
    "        return 2*self.x*self.y\n",
    "    \n",
    "    def descripcion(self,text):\n",
    "        self.descripcion=text\n",
    "    \n",
    "rectangulo1 = Rectangulo(90,35)\n",
    "rectangulo2 = Rectangulo(20,11)\n",
    "print(rectangulo1.area())\n",
    "rectangulo1.descripcion(\"Toy rectangle\")\n",
    "print(rectangulo1.descripcion)\n",
    "print(rectangulo2.area())"
   ]
  },
  {
   "cell_type": "code",
   "execution_count": null,
   "metadata": {},
   "outputs": [],
   "source": [
    "class Polygon:\n",
    "    def __init__(self, no_of_sides):\n",
    "        self.n = no_of_sides\n",
    "        self.sides = [0 for i in range(no_of_sides)]\n",
    "\n",
    "    def inputSides(self):\n",
    "        self.sides = [float(input(\"Enter side \"+str(i+1)+\" : \")) for i in range(self.n)]\n",
    "\n",
    "    def dispSides(self):\n",
    "        for i in range(self.n):\n",
    "            print(\"Side\",i+1,\"is\",self.sides[i])\n",
    "            \n",
    "class Triangle(Polygon):\n",
    "    def __init__(self):\n",
    "        Polygon.__init__(self,3)\n",
    "\n",
    "    def findArea(self):\n",
    "        a, b, c = self.sides\n",
    "        # calculate the semi-perimeter\n",
    "        s =(a + b + c) / 2\n",
    "        area =(s*(s-a)*(s-b)*(s-c)) ** 0.5\n",
    "        print('The area of the triangle is ',area)\n",
    "        \n",
    "t = Triangle()\n",
    "t.inputSides()\n",
    "t.dispSides()\n",
    "t.findArea()"
   ]
  },
  {
   "cell_type": "code",
   "execution_count": null,
   "metadata": {},
   "outputs": [],
   "source": []
  }
 ],
 "metadata": {
  "kernelspec": {
   "display_name": "Python [conda env:base] *",
   "language": "python",
   "name": "conda-base-py"
  },
  "language_info": {
   "codemirror_mode": {
    "name": "ipython",
    "version": 3
   },
   "file_extension": ".py",
   "mimetype": "text/x-python",
   "name": "python",
   "nbconvert_exporter": "python",
   "pygments_lexer": "ipython3",
   "version": "3.13.5"
  }
 },
 "nbformat": 4,
 "nbformat_minor": 4
}
